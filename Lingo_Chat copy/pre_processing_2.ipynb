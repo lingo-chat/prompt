{
 "cells": [
  {
   "cell_type": "code",
   "execution_count": 1,
   "metadata": {},
   "outputs": [],
   "source": [
    "import pandas as pd\n",
    "import json"
   ]
  },
  {
   "cell_type": "code",
   "execution_count": 4,
   "metadata": {},
   "outputs": [],
   "source": [
    "df = pd.read_json('Chatbot_pipeline\\Chat_log\\Orbit_generated_data.jsonl')"
   ]
  },
  {
   "cell_type": "code",
   "execution_count": 9,
   "metadata": {},
   "outputs": [],
   "source": [
    "turn_count = []\n",
    "for message in df['messages']:\n",
    "    turn_count.append(len(message)//2)"
   ]
  },
  {
   "cell_type": "code",
   "execution_count": 11,
   "metadata": {},
   "outputs": [
    {
     "data": {
      "text/plain": [
       "528"
      ]
     },
     "execution_count": 11,
     "metadata": {},
     "output_type": "execute_result"
    }
   ],
   "source": [
    "len(turn_count)"
   ]
  },
  {
   "cell_type": "code",
   "execution_count": 12,
   "metadata": {},
   "outputs": [],
   "source": [
    "df['num_turns'] = turn_count"
   ]
  },
  {
   "cell_type": "code",
   "execution_count": 13,
   "metadata": {},
   "outputs": [
    {
     "data": {
      "text/html": [
       "<div>\n",
       "<style scoped>\n",
       "    .dataframe tbody tr th:only-of-type {\n",
       "        vertical-align: middle;\n",
       "    }\n",
       "\n",
       "    .dataframe tbody tr th {\n",
       "        vertical-align: top;\n",
       "    }\n",
       "\n",
       "    .dataframe thead th {\n",
       "        text-align: right;\n",
       "    }\n",
       "</style>\n",
       "<table border=\"1\" class=\"dataframe\">\n",
       "  <thead>\n",
       "    <tr style=\"text-align: right;\">\n",
       "      <th></th>\n",
       "      <th>instruction</th>\n",
       "      <th>messages</th>\n",
       "      <th>num_turns</th>\n",
       "    </tr>\n",
       "  </thead>\n",
       "  <tbody>\n",
       "    <tr>\n",
       "      <th>0</th>\n",
       "      <td>커피 좋아하세요?</td>\n",
       "      <td>[{'contents': '커피 좋아하세요?', 'role': 'user'}, {'...</td>\n",
       "      <td>4</td>\n",
       "    </tr>\n",
       "    <tr>\n",
       "      <th>1</th>\n",
       "      <td>준거가격과 유보가격이란 무엇인가요?</td>\n",
       "      <td>[{'contents': '준거가격과 유보가격이란 무엇인가요?', 'role': '...</td>\n",
       "      <td>3</td>\n",
       "    </tr>\n",
       "    <tr>\n",
       "      <th>2</th>\n",
       "      <td>해리포터 책의 순서를 알고 싶습니다.</td>\n",
       "      <td>[{'contents': '해리포터 책의 순서를 알고 싶습니다.', 'role': ...</td>\n",
       "      <td>3</td>\n",
       "    </tr>\n",
       "    <tr>\n",
       "      <th>3</th>\n",
       "      <td>미국인의 상징으로 불리우는 '엉클 샘'은 실존 인물인가요? 어디서 유래되었나요?</td>\n",
       "      <td>[{'contents': '미국인의 상징으로 불리우는 '엉클 샘'은 실존 인물인가요...</td>\n",
       "      <td>3</td>\n",
       "    </tr>\n",
       "    <tr>\n",
       "      <th>4</th>\n",
       "      <td>참치는 왜 움직여야 할까요? \\n참치가 이만큼 빨리 헤엄치는 이유가 무엇일까요? 대...</td>\n",
       "      <td>[{'contents': '참치는 왜 움직여야 할까요? \n",
       "참치가 이만큼 빨리 헤엄치...</td>\n",
       "      <td>3</td>\n",
       "    </tr>\n",
       "    <tr>\n",
       "      <th>...</th>\n",
       "      <td>...</td>\n",
       "      <td>...</td>\n",
       "      <td>...</td>\n",
       "    </tr>\n",
       "    <tr>\n",
       "      <th>523</th>\n",
       "      <td>청와대는 언제, 누가 만들었을까요?</td>\n",
       "      <td>[{'contents': '청와대는 언제, 누가 만들었을까요?', 'role': '...</td>\n",
       "      <td>5</td>\n",
       "    </tr>\n",
       "    <tr>\n",
       "      <th>524</th>\n",
       "      <td>닭 다리의 봉과 다리는 어떻게 구분되나요?</td>\n",
       "      <td>[{'contents': '닭 다리의 봉과 다리는 어떻게 구분되나요?', 'role...</td>\n",
       "      <td>5</td>\n",
       "    </tr>\n",
       "    <tr>\n",
       "      <th>525</th>\n",
       "      <td>코스타리카에는 정말로 군대가 없을까요? 그렇다면 군사적 방어는 어떻게 이루어지고 있나요?</td>\n",
       "      <td>[{'contents': '코스타리카에는 정말로 군대가 없을까요? 그렇다면 군사적 ...</td>\n",
       "      <td>5</td>\n",
       "    </tr>\n",
       "    <tr>\n",
       "      <th>526</th>\n",
       "      <td>인간의 수명을 결정하는 염색체 끝부분의 핵산 서열은 존재하는가요?</td>\n",
       "      <td>[{'contents': '인간의 수명을 결정하는 염색체 끝부분의 핵산 서열은 존재...</td>\n",
       "      <td>5</td>\n",
       "    </tr>\n",
       "    <tr>\n",
       "      <th>527</th>\n",
       "      <td>맞춤법 검사를 끄는 방법은 무엇인가요?\\n글을 작성하다 보면 띄어쓰기나 맞춤법이 틀...</td>\n",
       "      <td>[{'contents': '맞춤법 검사를 끄는 방법은 무엇인가요?\n",
       "글을 작성하다 보...</td>\n",
       "      <td>5</td>\n",
       "    </tr>\n",
       "  </tbody>\n",
       "</table>\n",
       "<p>528 rows × 3 columns</p>\n",
       "</div>"
      ],
      "text/plain": [
       "                                           instruction  \\\n",
       "0                                            커피 좋아하세요?   \n",
       "1                                  준거가격과 유보가격이란 무엇인가요?   \n",
       "2                                 해리포터 책의 순서를 알고 싶습니다.   \n",
       "3         미국인의 상징으로 불리우는 '엉클 샘'은 실존 인물인가요? 어디서 유래되었나요?   \n",
       "4    참치는 왜 움직여야 할까요? \\n참치가 이만큼 빨리 헤엄치는 이유가 무엇일까요? 대...   \n",
       "..                                                 ...   \n",
       "523                                청와대는 언제, 누가 만들었을까요?   \n",
       "524                            닭 다리의 봉과 다리는 어떻게 구분되나요?   \n",
       "525  코스타리카에는 정말로 군대가 없을까요? 그렇다면 군사적 방어는 어떻게 이루어지고 있나요?   \n",
       "526               인간의 수명을 결정하는 염색체 끝부분의 핵산 서열은 존재하는가요?   \n",
       "527  맞춤법 검사를 끄는 방법은 무엇인가요?\\n글을 작성하다 보면 띄어쓰기나 맞춤법이 틀...   \n",
       "\n",
       "                                              messages  num_turns  \n",
       "0    [{'contents': '커피 좋아하세요?', 'role': 'user'}, {'...          4  \n",
       "1    [{'contents': '준거가격과 유보가격이란 무엇인가요?', 'role': '...          3  \n",
       "2    [{'contents': '해리포터 책의 순서를 알고 싶습니다.', 'role': ...          3  \n",
       "3    [{'contents': '미국인의 상징으로 불리우는 '엉클 샘'은 실존 인물인가요...          3  \n",
       "4    [{'contents': '참치는 왜 움직여야 할까요? \n",
       "참치가 이만큼 빨리 헤엄치...          3  \n",
       "..                                                 ...        ...  \n",
       "523  [{'contents': '청와대는 언제, 누가 만들었을까요?', 'role': '...          5  \n",
       "524  [{'contents': '닭 다리의 봉과 다리는 어떻게 구분되나요?', 'role...          5  \n",
       "525  [{'contents': '코스타리카에는 정말로 군대가 없을까요? 그렇다면 군사적 ...          5  \n",
       "526  [{'contents': '인간의 수명을 결정하는 염색체 끝부분의 핵산 서열은 존재...          5  \n",
       "527  [{'contents': '맞춤법 검사를 끄는 방법은 무엇인가요?\n",
       "글을 작성하다 보...          5  \n",
       "\n",
       "[528 rows x 3 columns]"
      ]
     },
     "execution_count": 13,
     "metadata": {},
     "output_type": "execute_result"
    }
   ],
   "source": [
    "df"
   ]
  },
  {
   "cell_type": "code",
   "execution_count": 18,
   "metadata": {},
   "outputs": [],
   "source": [
    "file_path = \"Chatbot_pipeline\\\\Chat_log\\\\Orbit_generated_data_1.jsonl\"\n",
    "\n",
    "# DataFrame을 JSON Lines 형식으로 저장\n",
    "df.to_json(file_path, orient='records', lines=True, force_ascii=False, indent=4)"
   ]
  },
  {
   "cell_type": "code",
   "execution_count": null,
   "metadata": {},
   "outputs": [],
   "source": []
  }
 ],
 "metadata": {
  "kernelspec": {
   "display_name": "prompt",
   "language": "python",
   "name": "python3"
  },
  "language_info": {
   "codemirror_mode": {
    "name": "ipython",
    "version": 3
   },
   "file_extension": ".py",
   "mimetype": "text/x-python",
   "name": "python",
   "nbconvert_exporter": "python",
   "pygments_lexer": "ipython3",
   "version": "3.9.19"
  }
 },
 "nbformat": 4,
 "nbformat_minor": 2
}
