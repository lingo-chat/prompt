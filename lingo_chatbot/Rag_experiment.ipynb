{
 "cells": [
  {
   "cell_type": "code",
   "execution_count": 2,
   "metadata": {},
   "outputs": [
    {
     "name": "stdout",
     "output_type": "stream",
     "text": [
      "Requirement already satisfied: langchain_community in /home/jyh9701/prompt/lib/python3.10/site-packages (0.2.7)\n",
      "Requirement already satisfied: langchain_chroma in /home/jyh9701/prompt/lib/python3.10/site-packages (0.1.2)\n",
      "Requirement already satisfied: PyYAML>=5.3 in /home/jyh9701/prompt/lib/python3.10/site-packages (from langchain_community) (6.0.1)\n",
      "Requirement already satisfied: tenacity!=8.4.0,<9.0.0,>=8.1.0 in /home/jyh9701/prompt/lib/python3.10/site-packages (from langchain_community) (8.5.0)\n",
      "Requirement already satisfied: langchain-core<0.3.0,>=0.2.12 in /home/jyh9701/prompt/lib/python3.10/site-packages (from langchain_community) (0.2.18)\n",
      "Requirement already satisfied: langchain<0.3.0,>=0.2.7 in /home/jyh9701/prompt/lib/python3.10/site-packages (from langchain_community) (0.2.7)\n",
      "Requirement already satisfied: requests<3,>=2 in /home/jyh9701/prompt/lib/python3.10/site-packages (from langchain_community) (2.32.3)\n",
      "Requirement already satisfied: dataclasses-json<0.7,>=0.5.7 in /home/jyh9701/prompt/lib/python3.10/site-packages (from langchain_community) (0.6.7)\n",
      "Requirement already satisfied: numpy<2,>=1 in /home/jyh9701/prompt/lib/python3.10/site-packages (from langchain_community) (1.26.4)\n",
      "Requirement already satisfied: aiohttp<4.0.0,>=3.8.3 in /home/jyh9701/prompt/lib/python3.10/site-packages (from langchain_community) (3.9.5)\n",
      "Requirement already satisfied: SQLAlchemy<3,>=1.4 in /home/jyh9701/prompt/lib/python3.10/site-packages (from langchain_community) (2.0.31)\n",
      "Requirement already satisfied: langsmith<0.2.0,>=0.1.0 in /home/jyh9701/prompt/lib/python3.10/site-packages (from langchain_community) (0.1.85)\n",
      "Requirement already satisfied: fastapi<1,>=0.95.2 in /home/jyh9701/prompt/lib/python3.10/site-packages (from langchain_chroma) (0.111.1)\n",
      "Requirement already satisfied: chromadb<0.6.0,>=0.4.0 in /home/jyh9701/prompt/lib/python3.10/site-packages (from langchain_chroma) (0.5.4)\n",
      "Requirement already satisfied: frozenlist>=1.1.1 in /home/jyh9701/prompt/lib/python3.10/site-packages (from aiohttp<4.0.0,>=3.8.3->langchain_community) (1.4.1)\n",
      "Requirement already satisfied: async-timeout<5.0,>=4.0 in /home/jyh9701/prompt/lib/python3.10/site-packages (from aiohttp<4.0.0,>=3.8.3->langchain_community) (4.0.3)\n",
      "Requirement already satisfied: multidict<7.0,>=4.5 in /home/jyh9701/prompt/lib/python3.10/site-packages (from aiohttp<4.0.0,>=3.8.3->langchain_community) (6.0.5)\n",
      "Requirement already satisfied: attrs>=17.3.0 in /home/jyh9701/prompt/lib/python3.10/site-packages (from aiohttp<4.0.0,>=3.8.3->langchain_community) (23.2.0)\n",
      "Requirement already satisfied: aiosignal>=1.1.2 in /home/jyh9701/prompt/lib/python3.10/site-packages (from aiohttp<4.0.0,>=3.8.3->langchain_community) (1.3.1)\n",
      "Requirement already satisfied: yarl<2.0,>=1.0 in /home/jyh9701/prompt/lib/python3.10/site-packages (from aiohttp<4.0.0,>=3.8.3->langchain_community) (1.9.4)\n",
      "Requirement already satisfied: opentelemetry-api>=1.2.0 in /home/jyh9701/prompt/lib/python3.10/site-packages (from chromadb<0.6.0,>=0.4.0->langchain_chroma) (1.25.0)\n",
      "Requirement already satisfied: tokenizers>=0.13.2 in /home/jyh9701/prompt/lib/python3.10/site-packages (from chromadb<0.6.0,>=0.4.0->langchain_chroma) (0.19.1)\n",
      "Requirement already satisfied: bcrypt>=4.0.1 in /home/jyh9701/prompt/lib/python3.10/site-packages (from chromadb<0.6.0,>=0.4.0->langchain_chroma) (4.1.3)\n",
      "Requirement already satisfied: pydantic>=1.9 in /home/jyh9701/prompt/lib/python3.10/site-packages (from chromadb<0.6.0,>=0.4.0->langchain_chroma) (2.8.2)\n",
      "Requirement already satisfied: tqdm>=4.65.0 in /home/jyh9701/prompt/lib/python3.10/site-packages (from chromadb<0.6.0,>=0.4.0->langchain_chroma) (4.66.4)\n",
      "Requirement already satisfied: importlib-resources in /home/jyh9701/prompt/lib/python3.10/site-packages (from chromadb<0.6.0,>=0.4.0->langchain_chroma) (6.4.0)\n",
      "Requirement already satisfied: posthog>=2.4.0 in /home/jyh9701/prompt/lib/python3.10/site-packages (from chromadb<0.6.0,>=0.4.0->langchain_chroma) (3.5.0)\n",
      "Requirement already satisfied: httpx>=0.27.0 in /home/jyh9701/prompt/lib/python3.10/site-packages (from chromadb<0.6.0,>=0.4.0->langchain_chroma) (0.27.0)\n",
      "Requirement already satisfied: onnxruntime>=1.14.1 in /home/jyh9701/prompt/lib/python3.10/site-packages (from chromadb<0.6.0,>=0.4.0->langchain_chroma) (1.18.1)\n",
      "Requirement already satisfied: overrides>=7.3.1 in /home/jyh9701/prompt/lib/python3.10/site-packages (from chromadb<0.6.0,>=0.4.0->langchain_chroma) (7.7.0)\n",
      "Requirement already satisfied: grpcio>=1.58.0 in /home/jyh9701/prompt/lib/python3.10/site-packages (from chromadb<0.6.0,>=0.4.0->langchain_chroma) (1.64.1)\n",
      "Requirement already satisfied: opentelemetry-exporter-otlp-proto-grpc>=1.2.0 in /home/jyh9701/prompt/lib/python3.10/site-packages (from chromadb<0.6.0,>=0.4.0->langchain_chroma) (1.25.0)\n",
      "Requirement already satisfied: chroma-hnswlib==0.7.5 in /home/jyh9701/prompt/lib/python3.10/site-packages (from chromadb<0.6.0,>=0.4.0->langchain_chroma) (0.7.5)\n",
      "Requirement already satisfied: mmh3>=4.0.1 in /home/jyh9701/prompt/lib/python3.10/site-packages (from chromadb<0.6.0,>=0.4.0->langchain_chroma) (4.1.0)\n",
      "Requirement already satisfied: orjson>=3.9.12 in /home/jyh9701/prompt/lib/python3.10/site-packages (from chromadb<0.6.0,>=0.4.0->langchain_chroma) (3.10.6)\n",
      "Requirement already satisfied: typer>=0.9.0 in /home/jyh9701/prompt/lib/python3.10/site-packages (from chromadb<0.6.0,>=0.4.0->langchain_chroma) (0.12.3)\n",
      "Requirement already satisfied: kubernetes>=28.1.0 in /home/jyh9701/prompt/lib/python3.10/site-packages (from chromadb<0.6.0,>=0.4.0->langchain_chroma) (30.1.0)\n",
      "Requirement already satisfied: pypika>=0.48.9 in /home/jyh9701/prompt/lib/python3.10/site-packages (from chromadb<0.6.0,>=0.4.0->langchain_chroma) (0.48.9)\n",
      "Requirement already satisfied: typing-extensions>=4.5.0 in /home/jyh9701/prompt/lib/python3.10/site-packages (from chromadb<0.6.0,>=0.4.0->langchain_chroma) (4.12.2)\n",
      "Requirement already satisfied: opentelemetry-sdk>=1.2.0 in /home/jyh9701/prompt/lib/python3.10/site-packages (from chromadb<0.6.0,>=0.4.0->langchain_chroma) (1.25.0)\n",
      "Requirement already satisfied: uvicorn[standard]>=0.18.3 in /home/jyh9701/prompt/lib/python3.10/site-packages (from chromadb<0.6.0,>=0.4.0->langchain_chroma) (0.30.1)\n",
      "Requirement already satisfied: opentelemetry-instrumentation-fastapi>=0.41b0 in /home/jyh9701/prompt/lib/python3.10/site-packages (from chromadb<0.6.0,>=0.4.0->langchain_chroma) (0.46b0)\n",
      "Requirement already satisfied: build>=1.0.3 in /home/jyh9701/prompt/lib/python3.10/site-packages (from chromadb<0.6.0,>=0.4.0->langchain_chroma) (1.2.1)\n",
      "Requirement already satisfied: marshmallow<4.0.0,>=3.18.0 in /home/jyh9701/prompt/lib/python3.10/site-packages (from dataclasses-json<0.7,>=0.5.7->langchain_community) (3.21.3)\n",
      "Requirement already satisfied: typing-inspect<1,>=0.4.0 in /home/jyh9701/prompt/lib/python3.10/site-packages (from dataclasses-json<0.7,>=0.5.7->langchain_community) (0.9.0)\n",
      "Requirement already satisfied: email_validator>=2.0.0 in /home/jyh9701/prompt/lib/python3.10/site-packages (from fastapi<1,>=0.95.2->langchain_chroma) (2.2.0)\n",
      "Requirement already satisfied: starlette<0.38.0,>=0.37.2 in /home/jyh9701/prompt/lib/python3.10/site-packages (from fastapi<1,>=0.95.2->langchain_chroma) (0.37.2)\n",
      "Requirement already satisfied: python-multipart>=0.0.7 in /home/jyh9701/prompt/lib/python3.10/site-packages (from fastapi<1,>=0.95.2->langchain_chroma) (0.0.9)\n",
      "Requirement already satisfied: fastapi-cli>=0.0.2 in /home/jyh9701/prompt/lib/python3.10/site-packages (from fastapi<1,>=0.95.2->langchain_chroma) (0.0.4)\n",
      "Requirement already satisfied: jinja2>=2.11.2 in /home/jyh9701/prompt/lib/python3.10/site-packages (from fastapi<1,>=0.95.2->langchain_chroma) (3.1.4)\n",
      "Requirement already satisfied: langchain-text-splitters<0.3.0,>=0.2.0 in /home/jyh9701/prompt/lib/python3.10/site-packages (from langchain<0.3.0,>=0.2.7->langchain_community) (0.2.2)\n",
      "Requirement already satisfied: packaging<25,>=23.2 in /home/jyh9701/prompt/lib/python3.10/site-packages (from langchain-core<0.3.0,>=0.2.12->langchain_community) (24.1)\n",
      "Requirement already satisfied: jsonpatch<2.0,>=1.33 in /home/jyh9701/prompt/lib/python3.10/site-packages (from langchain-core<0.3.0,>=0.2.12->langchain_community) (1.33)\n",
      "Requirement already satisfied: idna<4,>=2.5 in /home/jyh9701/prompt/lib/python3.10/site-packages (from requests<3,>=2->langchain_community) (3.7)\n",
      "Requirement already satisfied: urllib3<3,>=1.21.1 in /home/jyh9701/prompt/lib/python3.10/site-packages (from requests<3,>=2->langchain_community) (2.2.2)\n",
      "Requirement already satisfied: charset-normalizer<4,>=2 in /home/jyh9701/prompt/lib/python3.10/site-packages (from requests<3,>=2->langchain_community) (3.3.2)\n",
      "Requirement already satisfied: certifi>=2017.4.17 in /home/jyh9701/prompt/lib/python3.10/site-packages (from requests<3,>=2->langchain_community) (2024.7.4)\n",
      "Requirement already satisfied: greenlet!=0.4.17 in /home/jyh9701/prompt/lib/python3.10/site-packages (from SQLAlchemy<3,>=1.4->langchain_community) (3.0.3)\n",
      "Requirement already satisfied: tomli>=1.1.0 in /home/jyh9701/prompt/lib/python3.10/site-packages (from build>=1.0.3->chromadb<0.6.0,>=0.4.0->langchain_chroma) (2.0.1)\n",
      "Requirement already satisfied: pyproject_hooks in /home/jyh9701/prompt/lib/python3.10/site-packages (from build>=1.0.3->chromadb<0.6.0,>=0.4.0->langchain_chroma) (1.1.0)\n",
      "Requirement already satisfied: dnspython>=2.0.0 in /home/jyh9701/prompt/lib/python3.10/site-packages (from email_validator>=2.0.0->fastapi<1,>=0.95.2->langchain_chroma) (2.6.1)\n",
      "Requirement already satisfied: httpcore==1.* in /home/jyh9701/prompt/lib/python3.10/site-packages (from httpx>=0.27.0->chromadb<0.6.0,>=0.4.0->langchain_chroma) (1.0.5)\n",
      "Requirement already satisfied: anyio in /home/jyh9701/prompt/lib/python3.10/site-packages (from httpx>=0.27.0->chromadb<0.6.0,>=0.4.0->langchain_chroma) (4.4.0)\n",
      "Requirement already satisfied: sniffio in /home/jyh9701/prompt/lib/python3.10/site-packages (from httpx>=0.27.0->chromadb<0.6.0,>=0.4.0->langchain_chroma) (1.3.1)\n",
      "Requirement already satisfied: h11<0.15,>=0.13 in /home/jyh9701/prompt/lib/python3.10/site-packages (from httpcore==1.*->httpx>=0.27.0->chromadb<0.6.0,>=0.4.0->langchain_chroma) (0.14.0)\n",
      "Requirement already satisfied: MarkupSafe>=2.0 in /home/jyh9701/prompt/lib/python3.10/site-packages (from jinja2>=2.11.2->fastapi<1,>=0.95.2->langchain_chroma) (2.1.5)\n",
      "Requirement already satisfied: jsonpointer>=1.9 in /home/jyh9701/prompt/lib/python3.10/site-packages (from jsonpatch<2.0,>=1.33->langchain-core<0.3.0,>=0.2.12->langchain_community) (3.0.0)\n",
      "Requirement already satisfied: google-auth>=1.0.1 in /home/jyh9701/prompt/lib/python3.10/site-packages (from kubernetes>=28.1.0->chromadb<0.6.0,>=0.4.0->langchain_chroma) (2.32.0)\n",
      "Requirement already satisfied: websocket-client!=0.40.0,!=0.41.*,!=0.42.*,>=0.32.0 in /home/jyh9701/prompt/lib/python3.10/site-packages (from kubernetes>=28.1.0->chromadb<0.6.0,>=0.4.0->langchain_chroma) (1.8.0)\n",
      "Requirement already satisfied: six>=1.9.0 in /home/jyh9701/prompt/lib/python3.10/site-packages (from kubernetes>=28.1.0->chromadb<0.6.0,>=0.4.0->langchain_chroma) (1.16.0)\n",
      "Requirement already satisfied: oauthlib>=3.2.2 in /home/jyh9701/prompt/lib/python3.10/site-packages (from kubernetes>=28.1.0->chromadb<0.6.0,>=0.4.0->langchain_chroma) (3.2.2)\n",
      "Requirement already satisfied: requests-oauthlib in /home/jyh9701/prompt/lib/python3.10/site-packages (from kubernetes>=28.1.0->chromadb<0.6.0,>=0.4.0->langchain_chroma) (2.0.0)\n",
      "Requirement already satisfied: python-dateutil>=2.5.3 in /home/jyh9701/prompt/lib/python3.10/site-packages (from kubernetes>=28.1.0->chromadb<0.6.0,>=0.4.0->langchain_chroma) (2.9.0.post0)\n",
      "Requirement already satisfied: flatbuffers in /home/jyh9701/prompt/lib/python3.10/site-packages (from onnxruntime>=1.14.1->chromadb<0.6.0,>=0.4.0->langchain_chroma) (24.3.25)\n",
      "Requirement already satisfied: sympy in /home/jyh9701/prompt/lib/python3.10/site-packages (from onnxruntime>=1.14.1->chromadb<0.6.0,>=0.4.0->langchain_chroma) (1.13.0)\n",
      "Requirement already satisfied: protobuf in /home/jyh9701/prompt/lib/python3.10/site-packages (from onnxruntime>=1.14.1->chromadb<0.6.0,>=0.4.0->langchain_chroma) (4.25.3)\n",
      "Requirement already satisfied: coloredlogs in /home/jyh9701/prompt/lib/python3.10/site-packages (from onnxruntime>=1.14.1->chromadb<0.6.0,>=0.4.0->langchain_chroma) (15.0.1)\n",
      "Requirement already satisfied: deprecated>=1.2.6 in /home/jyh9701/prompt/lib/python3.10/site-packages (from opentelemetry-api>=1.2.0->chromadb<0.6.0,>=0.4.0->langchain_chroma) (1.2.14)\n",
      "Requirement already satisfied: importlib-metadata<=7.1,>=6.0 in /home/jyh9701/prompt/lib/python3.10/site-packages (from opentelemetry-api>=1.2.0->chromadb<0.6.0,>=0.4.0->langchain_chroma) (7.1.0)\n",
      "Requirement already satisfied: opentelemetry-exporter-otlp-proto-common==1.25.0 in /home/jyh9701/prompt/lib/python3.10/site-packages (from opentelemetry-exporter-otlp-proto-grpc>=1.2.0->chromadb<0.6.0,>=0.4.0->langchain_chroma) (1.25.0)\n",
      "Requirement already satisfied: googleapis-common-protos~=1.52 in /home/jyh9701/prompt/lib/python3.10/site-packages (from opentelemetry-exporter-otlp-proto-grpc>=1.2.0->chromadb<0.6.0,>=0.4.0->langchain_chroma) (1.63.2)\n",
      "Requirement already satisfied: opentelemetry-proto==1.25.0 in /home/jyh9701/prompt/lib/python3.10/site-packages (from opentelemetry-exporter-otlp-proto-grpc>=1.2.0->chromadb<0.6.0,>=0.4.0->langchain_chroma) (1.25.0)\n",
      "Requirement already satisfied: opentelemetry-util-http==0.46b0 in /home/jyh9701/prompt/lib/python3.10/site-packages (from opentelemetry-instrumentation-fastapi>=0.41b0->chromadb<0.6.0,>=0.4.0->langchain_chroma) (0.46b0)\n",
      "Requirement already satisfied: opentelemetry-instrumentation==0.46b0 in /home/jyh9701/prompt/lib/python3.10/site-packages (from opentelemetry-instrumentation-fastapi>=0.41b0->chromadb<0.6.0,>=0.4.0->langchain_chroma) (0.46b0)\n",
      "Requirement already satisfied: opentelemetry-instrumentation-asgi==0.46b0 in /home/jyh9701/prompt/lib/python3.10/site-packages (from opentelemetry-instrumentation-fastapi>=0.41b0->chromadb<0.6.0,>=0.4.0->langchain_chroma) (0.46b0)\n",
      "Requirement already satisfied: opentelemetry-semantic-conventions==0.46b0 in /home/jyh9701/prompt/lib/python3.10/site-packages (from opentelemetry-instrumentation-fastapi>=0.41b0->chromadb<0.6.0,>=0.4.0->langchain_chroma) (0.46b0)\n",
      "Requirement already satisfied: wrapt<2.0.0,>=1.0.0 in /home/jyh9701/prompt/lib/python3.10/site-packages (from opentelemetry-instrumentation==0.46b0->opentelemetry-instrumentation-fastapi>=0.41b0->chromadb<0.6.0,>=0.4.0->langchain_chroma) (1.16.0)\n",
      "Requirement already satisfied: setuptools>=16.0 in /home/jyh9701/prompt/lib/python3.10/site-packages (from opentelemetry-instrumentation==0.46b0->opentelemetry-instrumentation-fastapi>=0.41b0->chromadb<0.6.0,>=0.4.0->langchain_chroma) (59.6.0)\n",
      "Requirement already satisfied: asgiref~=3.0 in /home/jyh9701/prompt/lib/python3.10/site-packages (from opentelemetry-instrumentation-asgi==0.46b0->opentelemetry-instrumentation-fastapi>=0.41b0->chromadb<0.6.0,>=0.4.0->langchain_chroma) (3.8.1)\n",
      "Requirement already satisfied: monotonic>=1.5 in /home/jyh9701/prompt/lib/python3.10/site-packages (from posthog>=2.4.0->chromadb<0.6.0,>=0.4.0->langchain_chroma) (1.6)\n",
      "Requirement already satisfied: backoff>=1.10.0 in /home/jyh9701/prompt/lib/python3.10/site-packages (from posthog>=2.4.0->chromadb<0.6.0,>=0.4.0->langchain_chroma) (2.2.1)\n",
      "Requirement already satisfied: pydantic-core==2.20.1 in /home/jyh9701/prompt/lib/python3.10/site-packages (from pydantic>=1.9->chromadb<0.6.0,>=0.4.0->langchain_chroma) (2.20.1)\n",
      "Requirement already satisfied: annotated-types>=0.4.0 in /home/jyh9701/prompt/lib/python3.10/site-packages (from pydantic>=1.9->chromadb<0.6.0,>=0.4.0->langchain_chroma) (0.7.0)\n",
      "Requirement already satisfied: huggingface-hub<1.0,>=0.16.4 in /home/jyh9701/prompt/lib/python3.10/site-packages (from tokenizers>=0.13.2->chromadb<0.6.0,>=0.4.0->langchain_chroma) (0.23.4)\n",
      "Requirement already satisfied: shellingham>=1.3.0 in /home/jyh9701/prompt/lib/python3.10/site-packages (from typer>=0.9.0->chromadb<0.6.0,>=0.4.0->langchain_chroma) (1.5.4)\n",
      "Requirement already satisfied: rich>=10.11.0 in /home/jyh9701/prompt/lib/python3.10/site-packages (from typer>=0.9.0->chromadb<0.6.0,>=0.4.0->langchain_chroma) (13.7.1)\n",
      "Requirement already satisfied: click>=8.0.0 in /home/jyh9701/prompt/lib/python3.10/site-packages (from typer>=0.9.0->chromadb<0.6.0,>=0.4.0->langchain_chroma) (8.1.7)\n",
      "Requirement already satisfied: mypy-extensions>=0.3.0 in /home/jyh9701/prompt/lib/python3.10/site-packages (from typing-inspect<1,>=0.4.0->dataclasses-json<0.7,>=0.5.7->langchain_community) (1.0.0)\n",
      "Requirement already satisfied: websockets>=10.4 in /home/jyh9701/prompt/lib/python3.10/site-packages (from uvicorn[standard]>=0.18.3->chromadb<0.6.0,>=0.4.0->langchain_chroma) (12.0)\n",
      "Requirement already satisfied: httptools>=0.5.0 in /home/jyh9701/prompt/lib/python3.10/site-packages (from uvicorn[standard]>=0.18.3->chromadb<0.6.0,>=0.4.0->langchain_chroma) (0.6.1)\n",
      "Requirement already satisfied: python-dotenv>=0.13 in /home/jyh9701/prompt/lib/python3.10/site-packages (from uvicorn[standard]>=0.18.3->chromadb<0.6.0,>=0.4.0->langchain_chroma) (1.0.1)\n",
      "Requirement already satisfied: watchfiles>=0.13 in /home/jyh9701/prompt/lib/python3.10/site-packages (from uvicorn[standard]>=0.18.3->chromadb<0.6.0,>=0.4.0->langchain_chroma) (0.22.0)\n",
      "Requirement already satisfied: uvloop!=0.15.0,!=0.15.1,>=0.14.0 in /home/jyh9701/prompt/lib/python3.10/site-packages (from uvicorn[standard]>=0.18.3->chromadb<0.6.0,>=0.4.0->langchain_chroma) (0.19.0)\n",
      "Requirement already satisfied: exceptiongroup>=1.0.2 in /home/jyh9701/prompt/lib/python3.10/site-packages (from anyio->httpx>=0.27.0->chromadb<0.6.0,>=0.4.0->langchain_chroma) (1.2.2)\n",
      "Requirement already satisfied: cachetools<6.0,>=2.0.0 in /home/jyh9701/prompt/lib/python3.10/site-packages (from google-auth>=1.0.1->kubernetes>=28.1.0->chromadb<0.6.0,>=0.4.0->langchain_chroma) (5.4.0)\n",
      "Requirement already satisfied: pyasn1-modules>=0.2.1 in /home/jyh9701/prompt/lib/python3.10/site-packages (from google-auth>=1.0.1->kubernetes>=28.1.0->chromadb<0.6.0,>=0.4.0->langchain_chroma) (0.4.0)\n",
      "Requirement already satisfied: rsa<5,>=3.1.4 in /home/jyh9701/prompt/lib/python3.10/site-packages (from google-auth>=1.0.1->kubernetes>=28.1.0->chromadb<0.6.0,>=0.4.0->langchain_chroma) (4.9)\n",
      "Requirement already satisfied: fsspec>=2023.5.0 in /home/jyh9701/prompt/lib/python3.10/site-packages (from huggingface-hub<1.0,>=0.16.4->tokenizers>=0.13.2->chromadb<0.6.0,>=0.4.0->langchain_chroma) (2024.6.1)\n",
      "Requirement already satisfied: filelock in /home/jyh9701/prompt/lib/python3.10/site-packages (from huggingface-hub<1.0,>=0.16.4->tokenizers>=0.13.2->chromadb<0.6.0,>=0.4.0->langchain_chroma) (3.15.4)\n",
      "Requirement already satisfied: zipp>=0.5 in /home/jyh9701/prompt/lib/python3.10/site-packages (from importlib-metadata<=7.1,>=6.0->opentelemetry-api>=1.2.0->chromadb<0.6.0,>=0.4.0->langchain_chroma) (3.19.2)\n",
      "Requirement already satisfied: pygments<3.0.0,>=2.13.0 in /home/jyh9701/prompt/lib/python3.10/site-packages (from rich>=10.11.0->typer>=0.9.0->chromadb<0.6.0,>=0.4.0->langchain_chroma) (2.18.0)\n",
      "Requirement already satisfied: markdown-it-py>=2.2.0 in /home/jyh9701/prompt/lib/python3.10/site-packages (from rich>=10.11.0->typer>=0.9.0->chromadb<0.6.0,>=0.4.0->langchain_chroma) (3.0.0)\n",
      "Requirement already satisfied: humanfriendly>=9.1 in /home/jyh9701/prompt/lib/python3.10/site-packages (from coloredlogs->onnxruntime>=1.14.1->chromadb<0.6.0,>=0.4.0->langchain_chroma) (10.0)\n",
      "Requirement already satisfied: mpmath<1.4,>=1.1.0 in /home/jyh9701/prompt/lib/python3.10/site-packages (from sympy->onnxruntime>=1.14.1->chromadb<0.6.0,>=0.4.0->langchain_chroma) (1.3.0)\n",
      "Requirement already satisfied: mdurl~=0.1 in /home/jyh9701/prompt/lib/python3.10/site-packages (from markdown-it-py>=2.2.0->rich>=10.11.0->typer>=0.9.0->chromadb<0.6.0,>=0.4.0->langchain_chroma) (0.1.2)\n",
      "Requirement already satisfied: pyasn1<0.7.0,>=0.4.6 in /home/jyh9701/prompt/lib/python3.10/site-packages (from pyasn1-modules>=0.2.1->google-auth>=1.0.1->kubernetes>=28.1.0->chromadb<0.6.0,>=0.4.0->langchain_chroma) (0.6.0)\n"
     ]
    }
   ],
   "source": [
    "!pip install langchain_community langchain_chroma"
   ]
  },
  {
   "cell_type": "code",
   "execution_count": 1,
   "metadata": {},
   "outputs": [],
   "source": [
    "from langchain_community.document_loaders import TextLoader\n",
    "from langchain_text_splitters import RecursiveCharacterTextSplitter\n",
    "from langchain_chroma import Chroma\n",
    "from langchain.llms import OpenAI\n",
    "from langchain_core.output_parsers import StrOutputParser\n",
    "from langchain_core.runnables import RunnablePassthrough\n",
    "from langchain_openai import OpenAIEmbeddings\n",
    "from langchain_text_splitters import RecursiveCharacterTextSplitter\n",
    "from langchain_core.prompts import PromptTemplate\n",
    "from dotenv import load_dotenv\n",
    "import os\n",
    "\n"
   ]
  },
  {
   "cell_type": "code",
   "execution_count": 2,
   "metadata": {},
   "outputs": [],
   "source": [
    "load_dotenv()\n",
    "api_key = os.getenv('OpenAI_API_Key')"
   ]
  },
  {
   "cell_type": "code",
   "execution_count": 3,
   "metadata": {},
   "outputs": [],
   "source": [
    "# 마크다운 파일 경로\n",
    "file_path = 'rag_example.jsonl'\n",
    "\n",
    "loader = TextLoader(file_path)\n",
    "documents = loader.load()"
   ]
  },
  {
   "cell_type": "code",
   "execution_count": 4,
   "metadata": {},
   "outputs": [],
   "source": [
    "chunk_size = 300\n",
    "chunk_overlap = 100\n",
    "text_splitter = RecursiveCharacterTextSplitter(\n",
    "    chunk_size=chunk_size, chunk_overlap=chunk_overlap\n",
    ")\n",
    "\n",
    "# Split\n",
    "splits = text_splitter.split_documents(documents)"
   ]
  },
  {
   "cell_type": "code",
   "execution_count": 5,
   "metadata": {},
   "outputs": [
    {
     "data": {
      "text/plain": [
       "[Document(metadata={'source': 'rag_example.jsonl'}, page_content='{\"instruction\":\"양파는 어떤 식물 부위인가요? 그리고 고구마는 뿌리인가요?\",\"output\":\"양파는 잎이 아닌 식물의 줄기 부분입니다. 고구마는 식물의 뿌리 부분입니다. \\\\n\\\\n식물의 부위의 구분에 대해 궁금해하는 분이라면 분명 이 질문에 대한 답을 찾고 있을 것입니다. 양파는 잎이 아닌 줄기 부분입니다. 고구마는 다른 질문과 답변에서 언급된 것과 같이 뿌리 부분입니다. 따라서, 양파는 식물의 줄기 부분이 되고, 고구마는 식물의 뿌리 부분입니다.\\\\n\\\\n 덧붙이는 답변: 고구마 줄기도 볶아먹을 수 있나요? \\\\n\\\\n고구마'),\n",
       " Document(metadata={'source': 'rag_example.jsonl'}, page_content='것과 같이 뿌리 부분입니다. 따라서, 양파는 식물의 줄기 부분이 되고, 고구마는 식물의 뿌리 부분입니다.\\\\n\\\\n 덧붙이는 답변: 고구마 줄기도 볶아먹을 수 있나요? \\\\n\\\\n고구마 줄기도 식용으로 볶아먹을 수 있습니다. 하지만 줄기 뿐만 아니라, 잎, 씨, 뿌리까지 모든 부위가 식용으로 활용되기도 합니다. 다만, 한국에서는 일반적으로 뿌리 부분인 고구마를 주로 먹습니다.\",\"url\":\"https:\\\\/\\\\/kin.naver.com\\\\/qna\\\\/detail.naver?d1id=11&dirId=1116&docId=55320268\"}'),\n",
       " Document(metadata={'source': 'rag_example.jsonl'}, page_content='{\"instruction\":\"스웨터의 유래는 어디에서 시작되었나요?\",\"output\":\"스웨터의 유래는 14세기경 북유럽항구지역에서 어망을 짜던 기술을 의복에 활용하면서 시작되었습니다. 노동자들의 방한복에서 시작된 스웨터는 여가생활과 스포츠의 붐에 힘입어 대중화되었습니다. 이후, 겨울철 이너웨어의 대명사가 되었습니다. 스웨터는 짜서(Knit) 만든 옷을 말하며, 어부들의 방한복으로 짜여졌던 스웨터 중에서도 스코틀랜드 해안지방의 여인들은 바다로 나가는 남편이나 연인, 자식들에게 무사히 돌아올 것을 기원하며 로프나 닻 무늬를 정성껏'),\n",
       " Document(metadata={'source': 'rag_example.jsonl'}, page_content='말하며, 어부들의 방한복으로 짜여졌던 스웨터 중에서도 스코틀랜드 해안지방의 여인들은 바다로 나가는 남편이나 연인, 자식들에게 무사히 돌아올 것을 기원하며 로프나 닻 무늬를 정성껏 짜넣었다고 합니다. 그 실용성과 정성이 오늘에까지 이어지고 있습니다.\",\"url\":\"https:\\\\/\\\\/kin.naver.com\\\\/qna\\\\/detail.naver?d1id=11&dirId=11080102&docId=47833655\"}'),\n",
       " Document(metadata={'source': 'rag_example.jsonl'}, page_content='{\"instruction\":\"토성의 고리가 빛의 띠로 보이는 이유는 무엇인가요?  \\\\n\\\\n토성의 고리는 얼음과 같은 여러 물질로 이루어져 있다고 알고 있는데, 카시니가 찍은 사진에서 마치 빛의 띠 처럼 보이는 이유가 무엇인가요? 물질의 공전 속도가 빠르기 때문에 카메라로 담았을 때 빛의 궤적으로 보이는 건가요? 또한, 야간에 빠르게 움직이는 자동차를 장노출로 찍었을 때 빛의 궤적이 생기는 것과 같은 원리일까요? 그리고 빛의 궤적이 생기는 것은 우주라는 어두운 환경 특성 때문이라고 생각됩니다. 이게'),\n",
       " Document(metadata={'source': 'rag_example.jsonl'}, page_content='빠르게 움직이는 자동차를 장노출로 찍었을 때 빛의 궤적이 생기는 것과 같은 원리일까요? 그리고 빛의 궤적이 생기는 것은 우주라는 어두운 환경 특성 때문이라고 생각됩니다. 이게 맞을까요?\",\"output\":\"토성의 고리가 미세한 입자들로 이루어져 있기 때문에, 입자들의 밀도 차이 때문에 카시니 탐사선에서 찍은 고해상도 사진에서 빛의 띠가 보이는 것입니다.  \\\\n\\\\n실제로는 토성의 고리 입자들의 운동이 장노출 사진에서 잔상이 생기는 이유와 관련이 없습니다. 물체의 운동은 토성의 고리가 매끄럽게 보이는 이유와 상관이 없습니다.'),\n",
       " Document(metadata={'source': 'rag_example.jsonl'}, page_content='\\\\n\\\\n실제로는 토성의 고리 입자들의 운동이 장노출 사진에서 잔상이 생기는 이유와 관련이 없습니다. 물체의 운동은 토성의 고리가 매끄럽게 보이는 이유와 상관이 없습니다. \\\\n\\\\n밀도 차이로 생긴 미세한 입자들의 밀도는 연속적인 것이 아니며 광학계의 분해능으로 인해 고해상도 사진에서 입자 간격이 잘 보이지 않습니다. 따라서, 토성의 고리가 빛의 띠로 보이는 것은 고리 입자밀도의 차이 때문입니다. \\\\n\\\\n이렇게 입자들의 밀도 차이가 빛의 띠처럼 보이는 것은, 마치 축구장에서 앉아 조각판처럼 보이는 것과 같은 현상으로 이해할 수'),\n",
       " Document(metadata={'source': 'rag_example.jsonl'}, page_content='보이는 것은 고리 입자밀도의 차이 때문입니다. \\\\n\\\\n이렇게 입자들의 밀도 차이가 빛의 띠처럼 보이는 것은, 마치 축구장에서 앉아 조각판처럼 보이는 것과 같은 현상으로 이해할 수 있습니다. 마찬가지로, 먼 광활지에서 숲은 보이고 나무는 안 보이며, 이것은 발생하는 현상과 유사합니다.\\\\n\\\\n더 자세한 사항을 알고 싶다면 우주선이 고리를 아주 가까이 찍어 볼 필요가 있습니다. 이것은 훨씬 상세한 데이터를 얻기 위해서는 더욱 다양한 탐사가'),\n",
       " Document(metadata={'source': 'rag_example.jsonl'}, page_content='현상과 유사합니다.\\\\n\\\\n더 자세한 사항을 알고 싶다면 우주선이 고리를 아주 가까이 찍어 볼 필요가 있습니다. 이것은 훨씬 상세한 데이터를 얻기 위해서는 더욱 다양한 탐사가 필요합니다.\",\"url\":\"https:\\\\/\\\\/kin.naver.com\\\\/qna\\\\/detail.naver?d1id=11&dirId=1129&docId=329134273\"}'),\n",
       " Document(metadata={'source': 'rag_example.jsonl'}, page_content='{\"instruction\":\"화장품 OEM과 화장품 ODM의 차이점은 무엇인가요?\\\\n화장품 자체 제조 브랜드 런칭을 위해 OEM과 ODM용어에 대해 혼란스러움을 느끼고 있습니다. 두 용어의 차이점이 무엇인지 알고 싶습니다.\",\"output\":\"화장품 제조업체는 대체로 OEM과 ODM을 통해 제품을 만듭니다. OEM은 브랜드에서 제품을 주문하였을 때, 반제품이나 완제품으로 납품받는 방식입니다. 반면 ODM은 자체 개발 능력을 갖춘 제조원이 유통까지 담당하여 상품을 공급하는 방식입니다. ODM은 직접 연구 개발을 통해 제품을'),\n",
       " Document(metadata={'source': 'rag_example.jsonl'}, page_content='반제품이나 완제품으로 납품받는 방식입니다. 반면 ODM은 자체 개발 능력을 갖춘 제조원이 유통까지 담당하여 상품을 공급하는 방식입니다. ODM은 직접 연구 개발을 통해 제품을 만들어주는 점에서 OEM과 차이가 있습니다. 대표적인 OEM\\\\/ODM 기업에는 코스맥스, 오울코리아, 한국콜마 등이 있습니다. 최근에는 OEM과 ODM의 경계가 허물어지고 있어 브랜딩부터 용기와 케이스 디자인까지 전반적인 제품 제조를 담당하는 기업도 많습니다. 이를 바탕으로, OEM은 브랜드에서 주문한 제품을 납품받고, ODM은 직접 개발하여 유통까지'),\n",
       " Document(metadata={'source': 'rag_example.jsonl'}, page_content='브랜딩부터 용기와 케이스 디자인까지 전반적인 제품 제조를 담당하는 기업도 많습니다. 이를 바탕으로, OEM은 브랜드에서 주문한 제품을 납품받고, ODM은 직접 개발하여 유통까지 책임지는 차이점이 있습니다.\",\"url\":\"https:\\\\/\\\\/kin.naver.com\\\\/qna\\\\/detail.naver?d1id=5&dirId=5030102&docId=257054337\"}'),\n",
       " Document(metadata={'source': 'rag_example.jsonl'}, page_content='{\"instruction\":\"\\'사이보그\\'는 언제 처음 등장한 말이며, 그 의미와 종류에는 어떤 것이 있는지 알고 싶습니다.\",\"output\":\"\\'사이보그\\'는 1960년에 처음 등장한 말로, 기계와 유기체가 합성되어 생겨난 새로운 개념을 나타냅니다. 주로 공상과학영화에서 등장하며, 1985년 페미니스트인 도나 해러웨이가 발표한 \\'사이보그를 위한 선언문\\'으로 인해 사이보그는 성차별 사회를 극복하는 사회정치적 상징으로 더욱 주목받게 되었습니다. 사이보그는 생물체와 기술적 개입이 결합된 다양한 종류가 있으며, 이제는 인공장기를 받은'),\n",
       " Document(metadata={'source': 'rag_example.jsonl'}, page_content='인해 사이보그는 성차별 사회를 극복하는 사회정치적 상징으로 더욱 주목받게 되었습니다. 사이보그는 생물체와 기술적 개입이 결합된 다양한 종류가 있으며, 이제는 인공장기를 받은 사람, 예방접종을 받은 사람, 또는 사람과 기계가 결합된 베리칩과 같은 기술적 개입을 받은 사람들까지 우리 주변에서 만날 수 있습니다. \\\\n\\\\n또한, 지구 위치 파악 기능이나 신체 건강 상태를 감지하는 센서 등을 추가적으로 부착하면서 사이보그의 구조와 기능이 더욱 다양해지고 있습니다. 이러한 발전은 사이보그의 대중화를 가속화시키고 있으나, 범죄나 인권 침해'),\n",
       " Document(metadata={'source': 'rag_example.jsonl'}, page_content='건강 상태를 감지하는 센서 등을 추가적으로 부착하면서 사이보그의 구조와 기능이 더욱 다양해지고 있습니다. 이러한 발전은 사이보그의 대중화를 가속화시키고 있으나, 범죄나 인권 침해 등의 문제가 발생할 가능성도 존재합니다.\",\"url\":\"https:\\\\/\\\\/kin.naver.com\\\\/qna\\\\/detail.naver?d1id=11&dirId=110801&docId=53501505\"}'),\n",
       " Document(metadata={'source': 'rag_example.jsonl'}, page_content='{\"instruction\":\"씨앗을 냉장 처리후 심는 이유와 장기보존하려면 어떻게 해야 할까요?\",\"output\":\"1. 씨앗을 발아과정에서 냉장실에 보관후 심는 이유는 씨앗에는 휴면기간이 있기 때문입니다. 몇 년 동안도 휴면기간이 있는 경우가 있으며, 이러한 경우 계절의 변화 등을 거치며 발아할 준비가 됩니다. 이러한 식물 중 대표적으로 잣나무가 있으며, 노천매장을 할 경우 1~2년 후에 발아하기 때문에 썩지 않도록 이를 방지하기 위해 냉장보관 후 심을 수 있습니다.\\\\n2. 지금 당장 심지 않을 씨앗을 장기보존하려면, 식물의'),\n",
       " Document(metadata={'source': 'rag_example.jsonl'}, page_content='노천매장을 할 경우 1~2년 후에 발아하기 때문에 썩지 않도록 이를 방지하기 위해 냉장보관 후 심을 수 있습니다.\\\\n2. 지금 당장 심지 않을 씨앗을 장기보존하려면, 식물의 종류에 따라 냉장보관 또는 냉동보관이 가능합니다. 대부분의 경우 냉장보관이 가능하지만, 일부의 식물은 냉동보관이 필요합니다. 보관하기 전에 씨앗을 완전히 건조시켜야 하며, 흡습지 장소에 보관하거나 실온보다는 낮은 온도(2~10도)에서 보관하는 것이 좋습니다. 이렇게 보관했을 경우 씨앗의 보존기간은 상대적으로 길어지게 되며, 필요할 때마다 사용할 수'),\n",
       " Document(metadata={'source': 'rag_example.jsonl'}, page_content='흡습지 장소에 보관하거나 실온보다는 낮은 온도(2~10도)에서 보관하는 것이 좋습니다. 이렇게 보관했을 경우 씨앗의 보존기간은 상대적으로 길어지게 되며, 필요할 때마다 사용할 수 있습니다.\",\"url\":\"https:\\\\/\\\\/kin.naver.com\\\\/qna\\\\/detail.naver?d1id=8&dirId=80604&docId=74895909\"}'),\n",
       " Document(metadata={'source': 'rag_example.jsonl'}, page_content='{\"instruction\":\"야구 글러브의 종류와 포지션별 특징은 무엇인가요?\",\"output\":\"보통 4칸으로 그물처럼 되어있는 것이 내야글러브이며, 1루를 제외한 내야 전 포지션에서 사용 가능합니다. 그물처럼 촘촘히 되어있는 것이 외야글러브이며, 우익수, 중견수, 좌익수에서 사용 가능합니다. 투수 글러브는 그립이 보이지 않도록 막혀 있습니다. 포수와 1루수는 글러브가 아닌 미트를'),\n",
       " Document(metadata={'source': 'rag_example.jsonl'}, page_content='촘촘히 되어있는 것이 외야글러브이며, 우익수, 중견수, 좌익수에서 사용 가능합니다. 투수 글러브는 그립이 보이지 않도록 막혀 있습니다. 포수와 1루수는 글러브가 아닌 미트를 사용합니다.\",\"url\":\"https:\\\\/\\\\/kin.naver.com\\\\/qna\\\\/detail.naver?d1id=10&dirId=100102&docId=282734372\"}'),\n",
       " Document(metadata={'source': 'rag_example.jsonl'}, page_content='{\"instruction\":\"OPEC+와 OPEC의 차이점은 무엇인가요?\",\"output\":\"석유 수출 기구(OPEC)와 러시아 등 10개 주요 산유국의 연합체(OPEC+)가 있습니다. OPEC은 1960년 9월 이라크, 이란, 쿠웨이트, 사우디아라비아, 베네수엘라가 바그다드에서 창설한 국제기구이며, 현재 이라크, 이란, 쿠웨이트, 사우디아라비아, 베네수엘라, 리비아, 아랍에미리트(UAE), 알제리, 나이지리아, 에콰도르, 앙골라 등 14개국으로 구성되어 있습니다. OPEC의 목표는 석유 가격을 안정시키는 것입니다. 반면,'),\n",
       " Document(metadata={'source': 'rag_example.jsonl'}, page_content='베네수엘라, 리비아, 아랍에미리트(UAE), 알제리, 나이지리아, 에콰도르, 앙골라 등 14개국으로 구성되어 있습니다. OPEC의 목표는 석유 가격을 안정시키는 것입니다. 반면, OPEC+는 러시아와 미국, 멕시코, 노르웨이, 카자흐스탄, 아제르바이잔 등 10개의 주요 산유국이 연합하여 조정하는 그룹입니다. OPEC+은 석유 생산을 감축하여 석유 가격을 안정시키는 것을 목표로 하고'),\n",
       " Document(metadata={'source': 'rag_example.jsonl'}, page_content='멕시코, 노르웨이, 카자흐스탄, 아제르바이잔 등 10개의 주요 산유국이 연합하여 조정하는 그룹입니다. OPEC+은 석유 생산을 감축하여 석유 가격을 안정시키는 것을 목표로 하고 있습니다.\",\"url\":\"https:\\\\/\\\\/kin.naver.com\\\\/qna\\\\/detail.naver?d1id=5&dirId=51002&docId=347612681\"}'),\n",
       " Document(metadata={'source': 'rag_example.jsonl'}, page_content='{\"instruction\":\"광해군은 폭군이었나요? 그 업적은 어땠나요?\",\"output\":\"광해군이 폭군인가에 대해서는 서인, 인조, 인목대비 등의 시각에서는 폭군이라고 말하지만, 역사적으로는 패자이기 때문에 그들의 시각만 볼 수는 없습니다. 광해군의 업적으로는 산림 숭용, 실리 외교, 경기도 대동법 시행, 양전 사업 등이 있습니다. 이 외에도 궁궐 수리와 건립, 서적 간행, 후금과의 협상 등 광해군의 업적은 매우 다양합니다. 하지만 광해군의 행동으로 서인들과 인목왕후, 능양군 등에게 원한을 진행하다보니 대물림, 폐위 등을'),\n",
       " Document(metadata={'source': 'rag_example.jsonl'}, page_content='수리와 건립, 서적 간행, 후금과의 협상 등 광해군의 업적은 매우 다양합니다. 하지만 광해군의 행동으로 서인들과 인목왕후, 능양군 등에게 원한을 진행하다보니 대물림, 폐위 등을 결심하게 되었고, 이것이 폭군으로 비치게 됩니다.\",\"url\":\"https:\\\\/\\\\/kin.naver.com\\\\/qna\\\\/detail.naver?d1id=11&dirId=111001&docId=159365985\"}'),\n",
       " Document(metadata={'source': 'rag_example.jsonl'}, page_content='{\"instruction\":\"안과에서 눈치료할 때 쓰는 빨간 불은 무엇인가요? 그리고 눈을 감고 있는 이유는 무엇인가요?\",\"output\":\"안과에서 눈을 치료할 때 사용하는 빨간 불은 적외선입니다. 이때, 적외선은 눈을 감은 채 1분 정도 적외선을 받아보면서, 눈 아래에 있는 피부 분자들의 움직임을 좋게 해주어 눈의 회복 속도를 빠르게 합니다. 이러한 치료로 눈이 빨리 회복될 수 있기 때문에 보통 안과에서 많이 사용합니다. 이 치료는 코와 귀 등 다른 부위에서도 사용할 수 있으며, 이때는 이비인후과에서 적외선 치료기를'),\n",
       " Document(metadata={'source': 'rag_example.jsonl'}, page_content='이러한 치료로 눈이 빨리 회복될 수 있기 때문에 보통 안과에서 많이 사용합니다. 이 치료는 코와 귀 등 다른 부위에서도 사용할 수 있으며, 이때는 이비인후과에서 적외선 치료기를 사용합니다.\",\"url\":\"https:\\\\/\\\\/kin.naver.com\\\\/qna\\\\/detail.naver?d1id=7&dirId=70112&docId=272682677\"}'),\n",
       " Document(metadata={'source': 'rag_example.jsonl'}, page_content='{\"instruction\":\"왜 초밥에는 와사비가 들어갈까요? \\\\n초밥은 안매운 음식인데, 와사비 때문에 너무 매울 때가 있습니다. 그래서 제가 궁금한 건 초밥에 와사비가 들어가는 이유가 무엇인가요?\",\"output\":\"와사비는 기생충을 퇴치하기 위해 사용됩니다. \\\\n초밥에 와사비를 함께 제공하는 이유는 그것이 기생충을 퇴치하기 위함입니다. 대부분의 날생선에는 기생충이 내장에 숨어있기 때문에, 그것을 제거하기 위해 고추냉이의 살균력을 활용하는 것입니다. 또한, 생강에도 살균 작용이 있어 식중독을 예방하는 역할을 합니다. 초밥집에서'),\n",
       " Document(metadata={'source': 'rag_example.jsonl'}, page_content='기생충이 내장에 숨어있기 때문에, 그것을 제거하기 위해 고추냉이의 살균력을 활용하는 것입니다. 또한, 생강에도 살균 작용이 있어 식중독을 예방하는 역할을 합니다. 초밥집에서 얇게 쓴 생강을 제공하거나, 전갱이나 가다랭이 등에 생강을 곁들여 먹게 되는 것도 이와 같은 이유 때문입니다. 따라서, 와사비가 초밥과 함께 제공되는 것은 단순한 맛을 위한 것 뿐만 아니라, 위생적인 목적도 있기'),\n",
       " Document(metadata={'source': 'rag_example.jsonl'}, page_content='가다랭이 등에 생강을 곁들여 먹게 되는 것도 이와 같은 이유 때문입니다. 따라서, 와사비가 초밥과 함께 제공되는 것은 단순한 맛을 위한 것 뿐만 아니라, 위생적인 목적도 있기 때문입니다.\",\"url\":\"https:\\\\/\\\\/kin.naver.com\\\\/qna\\\\/detail.naver?d1id=5&dirId=50502&docId=330755077\"}'),\n",
       " Document(metadata={'source': 'rag_example.jsonl'}, page_content='{\"instruction\":\"극장 의자 밑에는 왜 구멍이 있을까요?\",\"output\":\"극장 의자의 아래부분에는 여러 개의 구멍이 있는데, 이는 소음을 줄여주는 역할을 합니다. 영화를 보는 사람이 의자에 앉으면 몸이나 옷이 소리를 흡수해 잡음을 없애지만, 사람이 앉지 않은 의자 아랫면은 여전히 소리를 반사시킵니다. 따라서 작은 구멍을 여러 개 뚫어서 소리가 구멍을 통해 들어가면 회절되어 퍼지고, 결국 의자 안으로 들어간 소리가 사라집니다. 그 외에도 극장 복도에 깔린 양탄자나, 극장 문을 가리는 커텐은 소음을 흡수하는 역할을'),\n",
       " Document(metadata={'source': 'rag_example.jsonl'}, page_content='소리가 구멍을 통해 들어가면 회절되어 퍼지고, 결국 의자 안으로 들어간 소리가 사라집니다. 그 외에도 극장 복도에 깔린 양탄자나, 극장 문을 가리는 커텐은 소음을 흡수하는 역할을 하며, 평면이 아닌 곡면으로 만들어진 벽면이나 천장은 소리의 난반사를 억제해서 메아리처럼 소리가 울리는 것을 막아줍니다.\",\"url\":\"https:\\\\/\\\\/kin.naver.com\\\\/qna\\\\/detail.naver?d1id=3&dirId=30312&docId=47152001\"}'),\n",
       " Document(metadata={'source': 'rag_example.jsonl'}, page_content='{\"instruction\":\"세계에서 가장 영향력 있는 인물은 누구인가요? (죽은 사람도 포함하여)\",\"output\":\"20세기를 대표하는 인물들의 리스트를 참고하면, 다양한 분야에서 영향력을 행사한 인물들이 나옵니다. <타임>지에서는 5개 분야에 걸쳐 20세기의 가장 영향력 있는 인물을 뽑았으며, 인터내셔날 후즈 후도 20세기를 움직인 100인을 선정 발표했습니다. 선정 기준에 따라 차이가 있겠지만, 구텐베르크와 콜럼버스, 마르틴 루터 등 1천년간 최고 인물들에 대한 순위를 선정한 리스트에서도 나온 인물들이 있습니다. 따라서'),\n",
       " Document(metadata={'source': 'rag_example.jsonl'}, page_content='발표했습니다. 선정 기준에 따라 차이가 있겠지만, 구텐베르크와 콜럼버스, 마르틴 루터 등 1천년간 최고 인물들에 대한 순위를 선정한 리스트에서도 나온 인물들이 있습니다. 따라서 세계에서 가장 영향력 있는 인물은 정하기가 어렵겠지만, 역사와 문화, 과학, 정치, 경제 등 다양한 분야에서 영향력을 끼친 인물들의 리스트를 살펴볼 수 있다는 점은 알아두면 좋을 것 같습니다.\",\"url\":\"https:\\\\/\\\\/kin.naver.com\\\\/qna\\\\/detail.naver?d1id=6&dirId=613&docId=47506192\"}'),\n",
       " Document(metadata={'source': 'rag_example.jsonl'}, page_content='{\"instruction\":\"FBI 뜻은 무엇인가요? 미국 경찰인가요? 연방 사수국이라는 것은 무슨 의미인가요?\",\"output\":\"미국은 주 단위, 시 단위로 경찰이 있습니다. 그러나 범죄인이 주를 넘나들면 추적할 수 없어 전국적으로 범인을 추적 검거할 수 있는 경찰이 필요합니다. 이런 역할을 하는 것이 FBI로, 연방 수사국이라고도 불립니다. FBI는 주 경찰보다 우선권이 있으며, 실제 수사할 때도 주 경찰보다 더 권한이 많습니다. 연방제인 미국에서 연방 수사국이라는 것은 연방 기관으로서 고유한 권한과 역할을 가진 수사기관을'),\n",
       " Document(metadata={'source': 'rag_example.jsonl'}, page_content='주 경찰보다 우선권이 있으며, 실제 수사할 때도 주 경찰보다 더 권한이 많습니다. 연방제인 미국에서 연방 수사국이라는 것은 연방 기관으로서 고유한 권한과 역할을 가진 수사기관을 뜻합니다. 그 외에도 지역별로는 해당 지역명+경찰로 부르며, 각 경찰마다 독립권이 있습니다.\",\"url\":\"https:\\\\/\\\\/kin.naver.com\\\\/qna\\\\/detail.naver?d1id=6&dirId=61302&docId=426751980\"}'),\n",
       " Document(metadata={'source': 'rag_example.jsonl'}, page_content='{\"instruction\":\"조선시대에 성인 나이는 몇 살이었나요? 성인식도 있었나요?\",\"output\":\"조선시대에 성인 나이는 15세였습니다. 관례라는 성인식이 있었습니다. 관례는 남성의 경우에는 갓을 씌우는 의식으로 시작해서 여러 가지 절차를 거치며 진행되었고, 여성의 경우에는 비녀를 꽂아주는 계례라는 의식으로 진행되었습니다. 이러한 관례나 계례를 통해서 남자 아이가 15세가 되면 성인으로 인정받았고, 이후로 새로운 삶의 시작이'),\n",
       " Document(metadata={'source': 'rag_example.jsonl'}, page_content='여성의 경우에는 비녀를 꽂아주는 계례라는 의식으로 진행되었습니다. 이러한 관례나 계례를 통해서 남자 아이가 15세가 되면 성인으로 인정받았고, 이후로 새로운 삶의 시작이 되었습니다.\",\"url\":\"https:\\\\/\\\\/kin.naver.com\\\\/qna\\\\/detail.naver?d1id=11&dirId=111001&docId=269115102\"}'),\n",
       " Document(metadata={'source': 'rag_example.jsonl'}, page_content='{\"instruction\":\"HDR 카메라 기능이란 무엇인가요?\",\"output\":\"HDR은 High Dynamic Range의 준말로, 사진의 명암 대비를 높여주는 기능입니다. 보통 밝은 부분은 밝게, 어두운 부분은 어둡게 나와서 전체적으로 불균형한 사진을 보정하여 고르게 나오도록 합니다. 이를 위해서 카메라에서 미리 밝게, 중간, 어둡게 총 세 장의 사진을 찍고, 이를 합성하여 하나의 사진으로 만듭니다. 이렇게 만들어진 사진은 원본 사진보다 풍부한 색채와 명암 대비를 가지고 있어서, 경치나 밝은 풍경, 일몰 등을 찍을 때'),\n",
       " Document(metadata={'source': 'rag_example.jsonl'}, page_content='사진을 찍고, 이를 합성하여 하나의 사진으로 만듭니다. 이렇게 만들어진 사진은 원본 사진보다 풍부한 색채와 명암 대비를 가지고 있어서, 경치나 밝은 풍경, 일몰 등을 찍을 때 효과적입니다.\",\"url\":\"https:\\\\/\\\\/kin.naver.com\\\\/qna\\\\/detail.naver?d1id=5&dirId=50102&docId=278295094\"}'),\n",
       " Document(metadata={'source': 'rag_example.jsonl'}, page_content='{\"instruction\":\"법정 관람을 하려면 어떻게 해야 할까요? 재판이 열리지 않을 수도 있는데, 어떻게 알 수 있나요? 그리고 어느 시간에 재판이 열리고, 얼마나 걸릴까요?\",\"output\":\"법정은 원칙적으로 공개적으로 교섭되기 때문에, 사건 당사자 이외에도 누구나 요청하면 재판에 참가하여 그 과정을 지켜볼 수 있습니다. 하지만 제한된 수용인원이 있기 때문에, 방청석에 자리가 다 차면 더 이상 입장을 허가하지 않습니다. 서울 서부지방법원 같은 규모가 큰 법원의 경우, 평일에는 거의 매일 다양한 민사\\\\/형사\\\\/가사 재판이'),\n",
       " Document(metadata={'source': 'rag_example.jsonl'}, page_content='있기 때문에, 방청석에 자리가 다 차면 더 이상 입장을 허가하지 않습니다. 서울 서부지방법원 같은 규모가 큰 법원의 경우, 평일에는 거의 매일 다양한 민사\\\\/형사\\\\/가사 재판이 열립니다. 특히, 수요일, 목요일, 금요일로 공판기일이 지정되는 판사님이 많으므로 해당 요일에 가시면 다양한 유형의 사건을 관람하실 수 있을 것입니다. 재판이 있는지 여부는 법원 내 게시판이나 안내 데스크에서 확인하실 수 있습니다. 재판 시작 시간은 주로 오전 9~10시경 또는 오후 2시 전후이며, 대체로 오후 5~6시경이면 끝납니다. 살인사건 등의 대형,'),\n",
       " Document(metadata={'source': 'rag_example.jsonl'}, page_content='게시판이나 안내 데스크에서 확인하실 수 있습니다. 재판 시작 시간은 주로 오전 9~10시경 또는 오후 2시 전후이며, 대체로 오후 5~6시경이면 끝납니다. 살인사건 등의 대형, 중대사건의 경우, 해당 사건이 완결될 때까지 여러 차례 재판이 열리기도 합니다. 야간 시간이나 주말에는 재판이 열리지 않는 경우가 일반적입니다. 또한, 법원 입장 시 핸드폰은 끄고, 복장은 단정하게 해야하며, 재판 중에는 예의를 지켜야 합니다. 게시판이나 안내 데스크에서 규정된 법정예절 사항을 꼭 확인하시기 바랍니다. \\\\n\\\\n 참고사항:\\\\n- 성폭력 사건,'),\n",
       " Document(metadata={'source': 'rag_example.jsonl'}, page_content='복장은 단정하게 해야하며, 재판 중에는 예의를 지켜야 합니다. 게시판이나 안내 데스크에서 규정된 법정예절 사항을 꼭 확인하시기 바랍니다. \\\\n\\\\n 참고사항:\\\\n- 성폭력 사건, 가사 이혼 청구 소송 등의 피해자, 당사자의 프라이버시를 침해할 우려가 있어 비공개로 진행되는 경우도 있습니다.\\\\n- 재판정 수용인원이 한계가 있으므로, 방청석에 자리가 다 차면 입장을 허가하지 않습니다.\\\\n- 서울 서부지방법원은 규모가 큰 법원이기 때문에, 민사\\\\/형사\\\\/가사 재판을 불문하고 평일에는 거의 매일 재판이 열린다고 할 수 있습니다.\\\\n-'),\n",
       " Document(metadata={'source': 'rag_example.jsonl'}, page_content='입장을 허가하지 않습니다.\\\\n- 서울 서부지방법원은 규모가 큰 법원이기 때문에, 민사\\\\/형사\\\\/가사 재판을 불문하고 평일에는 거의 매일 재판이 열린다고 할 수 있습니다.\\\\n- 게시판에는 오늘의 재판일정이 게시되며, 해당 법정으로 들어가셔야 합니다.\\\\n- 재판장님과 법원 직원의 안내를 따르세요. 법정예절을 지켜주세요.\",\"url\":\"https:\\\\/\\\\/kin.naver.com\\\\/qna\\\\/detail.naver?d1id=6&dirId=60208&docId=60607960\"}'),\n",
       " Document(metadata={'source': 'rag_example.jsonl'}, page_content='{\"instruction\":\"다이어트 중에 고구마와 감자 중 어떤 것을 먹어도 되는건가요? 그리고 구운 감자와 삶은 감자, 구운 고구마와 삶은 고구마의 차이는 뭔가요?\",\"output\":\"고구마와 감자 중 어떤 것을 먹어도 되는 것은 아니지만, 다이어트 시에는 고구마를 먹는 것이 더 좋습니다. 이는 고구마의 GI 지수가 감자보다 낮기 때문입니다. GI 지수가 높을 수록 흡수가 빨리되어 혈당이 빨리 올라가게 되므로 고구마를 먹는 것이 더 이상적입니다. 또한, 고구마는 감자보다 식이섬유를 많이 함유하고 있어 변비 예방에도 좋습니다.'),\n",
       " Document(metadata={'source': 'rag_example.jsonl'}, page_content='높을 수록 흡수가 빨리되어 혈당이 빨리 올라가게 되므로 고구마를 먹는 것이 더 이상적입니다. 또한, 고구마는 감자보다 식이섬유를 많이 함유하고 있어 변비 예방에도 좋습니다. 하지만 고구마는 구워 먹을 때 당도가 매우 높아지므로 삶은 고구마를 더 추천합니다. \\\\n\\\\n구운 감자와 삶은 감자, 그리고 구운 고구마와 삶은 고구마의 차이는 수분 함량과 칼로리의 차이입니다. 감자와 고구마를 삶아 먹으면 수분 함량이 유지되어 칼로리를 적게 섭취할 수 있지만, 구워 먹으면 수분 함량이 날아가면서 당도가 높아지고 칼로리가 더 높아지게 됩니다.'),\n",
       " Document(metadata={'source': 'rag_example.jsonl'}, page_content='차이입니다. 감자와 고구마를 삶아 먹으면 수분 함량이 유지되어 칼로리를 적게 섭취할 수 있지만, 구워 먹으면 수분 함량이 날아가면서 당도가 높아지고 칼로리가 더 높아지게 됩니다. 따라서 다이어트를 위해서는 구운 것보다는 삶은 것을 더 많이 추천합니다.\",\"url\":\"https:\\\\/\\\\/kin.naver.com\\\\/qna\\\\/detail.naver?d1id=8&dirId=8030401&docId=354115303\"}'),\n",
       " Document(metadata={'source': 'rag_example.jsonl'}, page_content='{\"instruction\":\"우리나라 화폐단위인 \\'원\\'은 어디서 유래한 것일까요? 또한 무슨 뜻으로 그렇게 지어진 건가요?\",\"output\":\"한국 돈의 단위로 사용되는 \\'원\\'은 한글 이름이며, 옛 화폐 단위인 圓이나 \\'원\\'에서 소리와 뜻을 취한 것입니다. \\'원\\'은 동전의 모양이 둥근 것에서 유래했습니다. \\'원\\'은 1962년 6월 제3차 통화조치 때 채택되어 현재 우리나라 돈의 기본단위입니다. \\'전\\'은 \\'원\\'의 보조단위이며, 100전이 1원입니다. \\'원(圓)\\'은 구한말 일본제일은행권의 국내 통용(1902년)이래 쓰인 단위로, 해방'),\n",
       " Document(metadata={'source': 'rag_example.jsonl'}, page_content=\"현재 우리나라 돈의 기본단위입니다. '전'은 '원'의 보조단위이며, 100전이 1원입니다. '원(圓)'은 구한말 일본제일은행권의 국내 통용(1902년)이래 쓰인 단위로, 해방 이후 최초의 한국은행권(1950년 7월)에서도 쓰였습니다. '환'은 1953년 2월 제2차 통화조치 때부터 통용된 단위입니다. '전'은 '錢'에서 유래했습니다. \\\\n\\\\n이전에 '원'을 표기할 때 영어 표기는 'WARN'이었으며, 현재는 'WON'으로 표기합니다. '원'의 기호는\"),\n",
       " Document(metadata={'source': 'rag_example.jsonl'}, page_content='때부터 통용된 단위입니다. \\'전\\'은 \\'錢\\'에서 유래했습니다. \\\\n\\\\n이전에 \\'원\\'을 표기할 때 영어 표기는 \\'WARN\\'이었으며, 현재는 \\'WON\\'으로 표기합니다. \\'원\\'의 기호는 \\\\\\\\입니다.\",\"url\":\"https:\\\\/\\\\/kin.naver.com\\\\/qna\\\\/detail.naver?d1id=11&dirId=11080102&docId=49582448\"}'),\n",
       " Document(metadata={'source': 'rag_example.jsonl'}, page_content='{\"instruction\":\"이유와 까닭의 차이는 무엇인가요? 이 둘의 의미를 자세히 설명해주세요.\",\"output\":\"이유와 까닭은 의미 뜻풀이로는 같은 것으로 보일 수 있지만, 큰 의미로 보면 차이가 있습니다. 이유는 어떤 결론이나 결과에 이른 까닭이나 근거를 의미합니다. 이와 달리, 까닭은 일어난 일의 원인이나 조건을 의미합니다. 따라서 이유는 까닭의 속에 들어가는 개념입니다. 이에 따라, \\'A라는 결과가 발생한 이유는 B에 까닭이 있다\\'와 같은 문장에서 이유를 까닭으로 대체하여 쓰는 것은 가능하지만, \\'A가 발생한 까닭은'),\n",
       " Document(metadata={'source': 'rag_example.jsonl'}, page_content=\"속에 들어가는 개념입니다. 이에 따라, 'A라는 결과가 발생한 이유는 B에 까닭이 있다'와 같은 문장에서 이유를 까닭으로 대체하여 쓰는 것은 가능하지만, 'A가 발생한 까닭은 B에 이유가 있다'와 같은 문장에서 까닭을 이유로 대체하여 쓰는 것은 적절하지 않습니다. 이유는 좁은 의미로는 결론에 대한 전제나 결과에 대한 원인을 의미할 수 있습니다. \\\\n결론적으로, 이유와 까닭은 의미상 차이가 있지만, 보통은 같은 의미로 사용하기도 합니다. 이유와 까닭의 관계를 이해하면서, 상황에 맞게 올바르게 사용하도록 노력해보는 것이\"),\n",
       " Document(metadata={'source': 'rag_example.jsonl'}, page_content='\\\\n결론적으로, 이유와 까닭은 의미상 차이가 있지만, 보통은 같은 의미로 사용하기도 합니다. 이유와 까닭의 관계를 이해하면서, 상황에 맞게 올바르게 사용하도록 노력해보는 것이 좋습니다.\",\"url\":\"https:\\\\/\\\\/kin.naver.com\\\\/qna\\\\/detail.naver?d1id=8&dirId=814&docId=333614317\"}')]"
      ]
     },
     "execution_count": 5,
     "metadata": {},
     "output_type": "execute_result"
    }
   ],
   "source": [
    "splits"
   ]
  },
  {
   "cell_type": "code",
   "execution_count": 6,
   "metadata": {},
   "outputs": [],
   "source": [
    "# 생성 모델 초기화\n",
    "vectorstore = Chroma.from_documents(documents=splits, embedding=OpenAIEmbeddings(openai_api_key=api_key))\n",
    "# Retrieve and generate using the relevant snippets of the blog.\n",
    "retriever = vectorstore.as_retriever()"
   ]
  },
  {
   "cell_type": "code",
   "execution_count": 9,
   "metadata": {},
   "outputs": [],
   "source": [
    "prompt = '''\n",
    "You are an assistant for question-answering tasks. Use the following pieces of retrieved context to answer the question. If you don't know the answer, just say that you don't know. Use three sentences maximum and keep the answer concise.\n",
    "You must print only in retrived context about the questions. Don't print any idea not retrieved data. Be flexible with your questions. (Example: What is React? -> This is a question about reAct prompting in Prompt Engineering, Not React framework.)\n",
    "When you print answer, you should print answer in json returning 2 parameters: 'activate_RAG' and 'Explain'. If you can explain users question in retrieved context, the value of 'activate_RAG' is 'Yes'. If you can't, return 'No'.\n",
    "And if 'activate_RAG' value is 'Yes' return the answer in 'Explain' parts, 'activate_RAG' is 'No', Print 'None'.\n",
    "마지막으로, 답변을 출력할때는 한글로 출력하세요. 그리고 정해진 형식에 맞게 json 파일로 출력해야함을 잊지 마세요.\n",
    "\n",
    "\n",
    "Question: {question}\n",
    "\n",
    "Context: {context}\n",
    "\n",
    "[Example]\n",
    "\"activate_RAG\": \"No\",\n",
    "\"Explain\": \"I don't know\"\n",
    "\n",
    "Answer:'''\n",
    "\n",
    "prompt_temp = PromptTemplate.from_template(prompt)"
   ]
  },
  {
   "cell_type": "code",
   "execution_count": 10,
   "metadata": {},
   "outputs": [
    {
     "name": "stderr",
     "output_type": "stream",
     "text": [
      "/home/jyh9701/prompt/lib/python3.10/site-packages/langchain_core/_api/deprecation.py:139: LangChainDeprecationWarning: The class `OpenAI` was deprecated in LangChain 0.0.10 and will be removed in 0.3.0. An updated version of the class exists in the langchain-openai package and should be used instead. To use it run `pip install -U langchain-openai` and import as `from langchain_openai import OpenAI`.\n",
      "  warn_deprecated(\n"
     ]
    }
   ],
   "source": [
    "# 생성 모델 초기화\n",
    "llm = OpenAI(api_key=api_key)\n",
    "\n",
    "def format_docs(docs):\n",
    "    return \"\\n\\n\".join(doc.page_content for doc in docs)\n",
    "\n",
    "\n",
    "rag_chain = (\n",
    "    {\"context\": retriever | format_docs, \"question\": RunnablePassthrough()}\n",
    "    | prompt_temp\n",
    "    | llm\n",
    "    | StrOutputParser()\n",
    ")"
   ]
  },
  {
   "cell_type": "code",
   "execution_count": 15,
   "metadata": {},
   "outputs": [],
   "source": [
    "result = rag_chain.invoke(\"광해군에 대해서 설명해줘?\")"
   ]
  },
  {
   "cell_type": "code",
   "execution_count": 16,
   "metadata": {},
   "outputs": [
    {
     "data": {
      "text/plain": [
       "' {\"activate_RAG\": \"Yes\", \"explain\": \"광해군이 폭군인가에 대해서는 서인, 인조, 인목대비 등의 시각에서는 폭군이라고 말하지만, 역사적으로는 패자이기 때문에 그들의 시각만 볼 수는 없습니다. 광해군의 업적으로는 산림 숭용, 실리 외교, 경기도 대동법 시행, 양전 사업 등이 있습니다. 이 외에도 궁궐 수리와 건립, 서적 간행, 후금과의 협상 등 광해군의 업적은 매우 다양합니다.\"}'"
      ]
     },
     "execution_count": 16,
     "metadata": {},
     "output_type": "execute_result"
    }
   ],
   "source": [
    "result"
   ]
  },
  {
   "cell_type": "code",
   "execution_count": null,
   "metadata": {},
   "outputs": [],
   "source": []
  }
 ],
 "metadata": {
  "kernelspec": {
   "display_name": "prompt",
   "language": "python",
   "name": "python3"
  },
  "language_info": {
   "codemirror_mode": {
    "name": "ipython",
    "version": 3
   },
   "file_extension": ".py",
   "mimetype": "text/x-python",
   "name": "python",
   "nbconvert_exporter": "python",
   "pygments_lexer": "ipython3",
   "version": "3.10.12"
  }
 },
 "nbformat": 4,
 "nbformat_minor": 2
}
