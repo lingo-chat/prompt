{
 "cells": [
  {
   "cell_type": "code",
   "execution_count": 2,
   "metadata": {},
   "outputs": [
    {
     "name": "stdout",
     "output_type": "stream",
     "text": [
      "Collecting langgraph\n",
      "  Downloading langgraph-0.1.5-py3-none-any.whl.metadata (11 kB)\n",
      "Requirement already satisfied: langchain-core<0.3,>=0.2 in c:\\users\\deepm\\anaconda3\\envs\\prompt\\lib\\site-packages (from langgraph) (0.2.1)\n",
      "Requirement already satisfied: PyYAML>=5.3 in c:\\users\\deepm\\anaconda3\\envs\\prompt\\lib\\site-packages (from langchain-core<0.3,>=0.2->langgraph) (6.0.1)\n",
      "Requirement already satisfied: jsonpatch<2.0,>=1.33 in c:\\users\\deepm\\anaconda3\\envs\\prompt\\lib\\site-packages (from langchain-core<0.3,>=0.2->langgraph) (1.33)\n",
      "Requirement already satisfied: langsmith<0.2.0,>=0.1.0 in c:\\users\\deepm\\anaconda3\\envs\\prompt\\lib\\site-packages (from langchain-core<0.3,>=0.2->langgraph) (0.1.63)\n",
      "Requirement already satisfied: packaging<24.0,>=23.2 in c:\\users\\deepm\\anaconda3\\envs\\prompt\\lib\\site-packages (from langchain-core<0.3,>=0.2->langgraph) (23.2)\n",
      "Requirement already satisfied: pydantic<3,>=1 in c:\\users\\deepm\\anaconda3\\envs\\prompt\\lib\\site-packages (from langchain-core<0.3,>=0.2->langgraph) (2.7.1)\n",
      "Requirement already satisfied: tenacity<9.0.0,>=8.1.0 in c:\\users\\deepm\\anaconda3\\envs\\prompt\\lib\\site-packages (from langchain-core<0.3,>=0.2->langgraph) (8.3.0)\n",
      "Requirement already satisfied: jsonpointer>=1.9 in c:\\users\\deepm\\anaconda3\\envs\\prompt\\lib\\site-packages (from jsonpatch<2.0,>=1.33->langchain-core<0.3,>=0.2->langgraph) (2.4)\n",
      "Requirement already satisfied: orjson<4.0.0,>=3.9.14 in c:\\users\\deepm\\anaconda3\\envs\\prompt\\lib\\site-packages (from langsmith<0.2.0,>=0.1.0->langchain-core<0.3,>=0.2->langgraph) (3.10.3)\n",
      "Requirement already satisfied: requests<3,>=2 in c:\\users\\deepm\\anaconda3\\envs\\prompt\\lib\\site-packages (from langsmith<0.2.0,>=0.1.0->langchain-core<0.3,>=0.2->langgraph) (2.32.2)\n",
      "Requirement already satisfied: annotated-types>=0.4.0 in c:\\users\\deepm\\anaconda3\\envs\\prompt\\lib\\site-packages (from pydantic<3,>=1->langchain-core<0.3,>=0.2->langgraph) (0.7.0)\n",
      "Requirement already satisfied: pydantic-core==2.18.2 in c:\\users\\deepm\\anaconda3\\envs\\prompt\\lib\\site-packages (from pydantic<3,>=1->langchain-core<0.3,>=0.2->langgraph) (2.18.2)\n",
      "Requirement already satisfied: typing-extensions>=4.6.1 in c:\\users\\deepm\\anaconda3\\envs\\prompt\\lib\\site-packages (from pydantic<3,>=1->langchain-core<0.3,>=0.2->langgraph) (4.11.0)\n",
      "Requirement already satisfied: charset-normalizer<4,>=2 in c:\\users\\deepm\\anaconda3\\envs\\prompt\\lib\\site-packages (from requests<3,>=2->langsmith<0.2.0,>=0.1.0->langchain-core<0.3,>=0.2->langgraph) (3.3.2)\n",
      "Requirement already satisfied: idna<4,>=2.5 in c:\\users\\deepm\\anaconda3\\envs\\prompt\\lib\\site-packages (from requests<3,>=2->langsmith<0.2.0,>=0.1.0->langchain-core<0.3,>=0.2->langgraph) (3.7)\n",
      "Requirement already satisfied: urllib3<3,>=1.21.1 in c:\\users\\deepm\\anaconda3\\envs\\prompt\\lib\\site-packages (from requests<3,>=2->langsmith<0.2.0,>=0.1.0->langchain-core<0.3,>=0.2->langgraph) (2.2.1)\n",
      "Requirement already satisfied: certifi>=2017.4.17 in c:\\users\\deepm\\anaconda3\\envs\\prompt\\lib\\site-packages (from requests<3,>=2->langsmith<0.2.0,>=0.1.0->langchain-core<0.3,>=0.2->langgraph) (2024.2.2)\n",
      "Downloading langgraph-0.1.5-py3-none-any.whl (88 kB)\n",
      "   ---------------------------------------- 0.0/89.0 kB ? eta -:--:--\n",
      "   ---- ----------------------------------- 10.2/89.0 kB ? eta -:--:--\n",
      "   ------------- -------------------------- 30.7/89.0 kB 325.1 kB/s eta 0:00:01\n",
      "   ------------------------------------ --- 81.9/89.0 kB 657.6 kB/s eta 0:00:01\n",
      "   ---------------------------------------- 89.0/89.0 kB 558.5 kB/s eta 0:00:00\n",
      "Installing collected packages: langgraph\n",
      "Successfully installed langgraph-0.1.5\n"
     ]
    }
   ],
   "source": [
    "!pip install langgraph"
   ]
  },
  {
   "cell_type": "code",
   "execution_count": 6,
   "metadata": {},
   "outputs": [],
   "source": [
    "from typing import TypedDict\n",
    "from langchain_core.prompts import ChatPromptTemplate\n",
    "from langchain_core.output_parsers import CommaSeparatedListOutputParser\n",
    "from langgraph.graph import END, StateGraph\n",
    "\n",
    "class GraphState(TypedDict):\n",
    "    question: str\n",
    "    질문은_인사가_맞나: bool\n",
    "\n",
    "def 시작(state: GraphState) -> GraphState:\n",
    "    print(\"시작이다!!\")\n",
    "    return state\n",
    "\n",
    "def 질문이_인사인가(state: GraphState) -> GraphState:    \n",
    "    nowQuestion = state[\"question\"]    \n",
    "    인사맞나 = False    \n",
    "    if nowQuestion == \"안녕!!\":\n",
    "        print(\"질문이 인사다!! 맞음. state에 설정 해야지\")\n",
    "        인사맞나 = True\n",
    "    \n",
    "    state[\"질문은_인사가_맞나\"] = 인사맞나\n",
    "    return state\n",
    "\n",
    "def 인사부터해야지(state: GraphState) -> GraphState:\n",
    "    print(\"인사부터 해야지!!\")\n",
    "    return state\n",
    "\n",
    "workflow = StateGraph(GraphState)\n",
    "workflow.add_node(\"시작\", 시작)\n",
    "workflow.add_node(\"질문이_인사인가\", 질문이_인사인가)\n",
    "workflow.add_node(\"인사부터해야지\", 인사부터해야지)\n",
    "\n",
    "workflow.add_edge(\"시작\", \"질문이_인사인가\")\n",
    "\n",
    "def next_step(state: GraphState) -> bool:    \n",
    "    return state[\"질문은_인사가_맞나\"]\n",
    "\n",
    "workflow.add_conditional_edges(\n",
    "    \"질문이_인사인가\",\n",
    "    next_step,\n",
    "    {\n",
    "        True: END,\n",
    "        False: \"인사부터해야지\"\n",
    "    },\n",
    ")\n",
    "\n",
    "workflow.set_entry_point(\"시작\")\n",
    "app = workflow.compile()\n"
   ]
  },
  {
   "cell_type": "code",
   "execution_count": 9,
   "metadata": {},
   "outputs": [
    {
     "name": "stdout",
     "output_type": "stream",
     "text": [
      "시작이다!!\n",
      "'=============================='\n",
      "질문이 인사다!! 맞음. state에 설정 해야지\n",
      "'=============================='\n"
     ]
    }
   ],
   "source": [
    "\n",
    "import pprint\n",
    "from langgraph.errors import GraphRecursionError\n",
    "from langchain_core.runnables import RunnableConfig\n",
    "\n",
    "config = RunnableConfig(recursion_limit=100, configurable={\"thread_id\": \"TODO\"})\n",
    "inputs = GraphState(question=\"안녕!!\", 질문은_인사가_맞나=False)\n",
    "\n",
    "try:\n",
    "    for output in app.stream(inputs, config=config):\n",
    "        for key, value in output.items():            \n",
    "            pprint.pprint(\"===\" * 10)\n",
    "except GraphRecursionError as e:\n",
    "    pprint.pprint(f\"Recursion limit reached: {e}\")"
   ]
  },
  {
   "cell_type": "code",
   "execution_count": null,
   "metadata": {},
   "outputs": [],
   "source": []
  }
 ],
 "metadata": {
  "kernelspec": {
   "display_name": "prompt",
   "language": "python",
   "name": "python3"
  },
  "language_info": {
   "codemirror_mode": {
    "name": "ipython",
    "version": 3
   },
   "file_extension": ".py",
   "mimetype": "text/x-python",
   "name": "python",
   "nbconvert_exporter": "python",
   "pygments_lexer": "ipython3",
   "version": "3.9.19"
  }
 },
 "nbformat": 4,
 "nbformat_minor": 2
}
